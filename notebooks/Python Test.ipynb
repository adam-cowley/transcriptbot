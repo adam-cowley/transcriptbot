{
 "cells": [
  {
   "cell_type": "code",
   "execution_count": 2,
   "metadata": {},
   "outputs": [
    {
     "data": {
      "text/plain": [
       "'neo4j'"
      ]
     },
     "execution_count": 2,
     "metadata": {},
     "output_type": "execute_result"
    }
   ],
   "source": [
    "%load_ext dotenv\n",
    "%dotenv .env.local\n",
    "\n",
    "import os\n",
    "\n",
    "os.getenv('NEO4J_USERNAME')"
   ]
  },
  {
   "cell_type": "code",
   "execution_count": 6,
   "metadata": {},
   "outputs": [],
   "source": [
    "from langchain.chains import GraphCypherQAChain\n",
    "from langchain.chat_models import ChatOpenAI\n",
    "from langchain.graphs import Neo4jGraph\n",
    "from langchain.prompts import PromptTemplate\n",
    "\n",
    "def read_prompt(filename):\n",
    "    with open(f'../prompts/{filename}', 'r') as f:\n",
    "        return f.read()\n",
    "\n",
    "llm = ChatOpenAI(\n",
    "    openai_api_key=os.getenv('OPENAI_API_KEY'),\n",
    "    model=os.getenv('OPENAI_MODEL'),\n",
    ")\n",
    "\n",
    "graph = Neo4jGraph(\n",
    "    url=os.getenv('NEO4J_URI'),\n",
    "    username=os.getenv('NEO4J_USERNAME'),\n",
    "    password=os.getenv('NEO4J_PASSWORD'),\n",
    ")\n",
    "\n",
    "\n",
    "cypher_prompt = PromptTemplate.from_template(read_prompt('cypher.txt'))\n",
    "\n",
    "chain = GraphCypherQAChain.from_llm(\n",
    "    llm,\n",
    "    graph=graph,\n",
    "    verbose=True,\n",
    "    cypher_prompt=cypher_prompt\n",
    ")\n"
   ]
  },
  {
   "cell_type": "code",
   "execution_count": 7,
   "metadata": {},
   "outputs": [
    {
     "name": "stdout",
     "output_type": "stream",
     "text": [
      "\n",
      "\n",
      "\u001b[1m> Entering new GraphCypherQAChain chain...\u001b[0m\n",
      "Generated Cypher:\n",
      "\u001b[32;1m\u001b[1;3mMATCH (e:Episode)-[:HAS_TOPIC]->(t:Topic)-[:MENTIONS]->(tech:Technology)\n",
      "WHERE toLower(tech.name) = 'neo4j'\n",
      "RETURN COUNT(DISTINCT e) AS NumberOfEpisodes\u001b[0m\n",
      "Full Context:\n",
      "\u001b[32;1m\u001b[1;3m[{'NumberOfEpisodes': 2}]\u001b[0m\n",
      "\n",
      "\u001b[1m> Finished chain.\u001b[0m\n"
     ]
    },
    {
     "data": {
      "text/plain": [
       "{'query': 'How many episodes mention Neo4j?',\n",
       " 'result': 'There are 2 episodes that mention Neo4j.'}"
      ]
     },
     "execution_count": 7,
     "metadata": {},
     "output_type": "execute_result"
    }
   ],
   "source": [
    "chain(\"How many episodes mention Neo4j?\")\n"
   ]
  },
  {
   "cell_type": "code",
   "execution_count": 4,
   "metadata": {},
   "outputs": [
    {
     "name": "stdout",
     "output_type": "stream",
     "text": [
      "\n",
      "\n",
      "\u001b[1m> Entering new GraphCypherQAChain chain...\u001b[0m\n",
      "Generated Cypher:\n",
      "\u001b[32;1m\u001b[1;3mMATCH (e:Episode)-[:HAS_TOPIC]->(t:Topic)-[:MENTIONS]->(tech:Technology) \n",
      "WHERE toLower(tech.name) = 'neo4j' \n",
      "RETURN e.title, e.url, t.timestamp\u001b[0m\n",
      "Full Context:\n",
      "\u001b[32;1m\u001b[1;3m[{'e.title': 'Supper Club × Adam Cowley and Neo4j Database', 'e.url': 'https://syntax.fm/show/487/what-is-devrel-with-salma-alam-naylor/transcript', 't.timestamp': '00:00'}, {'e.title': 'Supper Club × Adam Cowley and Neo4j Database', 'e.url': 'https://syntax.fm/show/487/what-is-devrel-with-salma-alam-naylor/transcript', 't.timestamp': '14:22'}, {'e.title': 'Supper Club × Adam Cowley and Neo4j Database', 'e.url': 'https://syntax.fm/show/487/what-is-devrel-with-salma-alam-naylor/transcript', 't.timestamp': '09:04'}, {'e.title': 'Supper Club × Adam Cowley and Neo4j Database', 'e.url': 'https://syntax.fm/show/487/what-is-devrel-with-salma-alam-naylor/transcript', 't.timestamp': '15:39'}, {'e.title': 'Supper Club × Adam Cowley and Neo4j Database', 'e.url': 'https://syntax.fm/show/487/what-is-devrel-with-salma-alam-naylor/transcript', 't.timestamp': '02:57'}, {'e.title': 'Supper Club × Adam Cowley and Neo4j Database', 'e.url': 'https://syntax.fm/show/487/what-is-devrel-with-salma-alam-naylor/transcript', 't.timestamp': '02:33'}, {'e.title': 'Supper Club × Adam Cowley and Neo4j Database', 'e.url': 'https://syntax.fm/show/487/what-is-devrel-with-salma-alam-naylor/transcript', 't.timestamp': '22:58'}, {'e.title': 'Supper Club × Adam Cowley and Neo4j Database', 'e.url': 'https://syntax.fm/show/487/what-is-devrel-with-salma-alam-naylor/transcript', 't.timestamp': '19:00'}, {'e.title': 'Supper Club × Adam Cowley and Neo4j Database', 'e.url': 'https://syntax.fm/show/487/what-is-devrel-with-salma-alam-naylor/transcript', 't.timestamp': '05:05'}, {'e.title': 'Supper Club × Adam Cowley and Neo4j Database', 'e.url': 'https://syntax.fm/show/487/what-is-devrel-with-salma-alam-naylor/transcript', 't.timestamp': '13:18'}]\u001b[0m\n",
      "\n",
      "\u001b[1m> Finished chain.\u001b[0m\n"
     ]
    },
    {
     "data": {
      "text/plain": [
       "{'query': 'which episodes mention Neo4j?',\n",
       " 'result': 'The episode titled \"Supper Club × Adam Cowley and Neo4j Database\" mentions Neo4j.'}"
      ]
     },
     "execution_count": 4,
     "metadata": {},
     "output_type": "execute_result"
    }
   ],
   "source": [
    "chain(\"which episodes mention Neo4j?\")\n"
   ]
  }
 ],
 "metadata": {
  "kernelspec": {
   "display_name": "Python 3",
   "language": "python",
   "name": "python3"
  },
  "language_info": {
   "codemirror_mode": {
    "name": "ipython",
    "version": 3
   },
   "file_extension": ".py",
   "mimetype": "text/x-python",
   "name": "python",
   "nbconvert_exporter": "python",
   "pygments_lexer": "ipython3",
   "version": "3.11.5"
  }
 },
 "nbformat": 4,
 "nbformat_minor": 2
}
